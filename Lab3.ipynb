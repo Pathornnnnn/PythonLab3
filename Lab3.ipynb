{
  "nbformat": 4,
  "nbformat_minor": 0,
  "metadata": {
    "colab": {
      "provenance": [],
      "include_colab_link": true
    },
    "kernelspec": {
      "name": "python3",
      "display_name": "Python 3"
    },
    "language_info": {
      "name": "python"
    }
  },
  "cells": [
    {
      "cell_type": "markdown",
      "metadata": {
        "id": "view-in-github",
        "colab_type": "text"
      },
      "source": [
        "<a href=\"https://colab.research.google.com/github/Pathornnnnn/PythonLab3/blob/main/Lab3.ipynb\" target=\"_parent\"><img src=\"https://colab.research.google.com/assets/colab-badge.svg\" alt=\"Open In Colab\"/></a>"
      ]
    },
    {
      "cell_type": "markdown",
      "source": [
        "# Exercise 3\n",
        "\n",
        "3.1 จากข้อมูลใน List ให้หาผลบวกเฉพาะตัวเลขคู่ โดยใช้ While Loop\n",
        "\n",
        "list1 = [1, 2, 3, 4, 5, 6, 7, 8, 9, 11, 13]\n",
        "\n"
      ],
      "metadata": {
        "id": "8LZVzcOUVMor"
      }
    },
    {
      "cell_type": "code",
      "execution_count": null,
      "metadata": {
        "id": "2cTrxjMXUE2n",
        "colab": {
          "base_uri": "https://localhost:8080/"
        },
        "outputId": "65d9586a-9833-4f7d-d820-3624a495e549"
      },
      "outputs": [
        {
          "output_type": "stream",
          "name": "stdout",
          "text": [
            "20\n"
          ]
        }
      ],
      "source": [
        "list1 = [1, 2, 3, 4, 5, 6, 7, 8, 9, 11, 13]\n",
        "sum = 0\n",
        "i = 0\n",
        "while i < len(list1):\n",
        "  if list1[i] % 2 == 0:\n",
        "    sum += list1[i]\n",
        "  i+=1\n",
        "print(sum)"
      ]
    },
    {
      "cell_type": "markdown",
      "source": [
        "3.2 จากข้อมูลใน List ให้หาตัวเลขที่มีค่ามากที่สุดเป็นอันดับ 2 ใน List โดยใช้ While Loop\n",
        "\n",
        "list = [-5, 7, 10, 1, 2, 5, 8, 100]\n"
      ],
      "metadata": {
        "id": "uPvbrsO_Vimb"
      }
    },
    {
      "cell_type": "code",
      "source": [
        "list1 = [-5, 7, 10, 1, 2, 59, 8, 100]\n",
        "i = 0\n",
        "max = list1[0]\n",
        "max2 = list1[0]\n",
        "while i < len(list1):\n",
        "  if max < list1[i]:\n",
        "    max = list1[i]\n",
        "  i+=1\n",
        "j = 0\n",
        "while j < len(list1):\n",
        "  if max > list1[j] > max2:\n",
        "    max2 = list1[j]\n",
        "  j+=1\n",
        "\n",
        "print(max2)"
      ],
      "metadata": {
        "id": "iUeJ91zfVr1Z",
        "colab": {
          "base_uri": "https://localhost:8080/"
        },
        "outputId": "8fd015a1-00d5-4bb7-d198-96e331219de7"
      },
      "execution_count": null,
      "outputs": [
        {
          "output_type": "stream",
          "name": "stdout",
          "text": [
            "59\n"
          ]
        }
      ]
    },
    {
      "cell_type": "markdown",
      "source": [
        "3.3 เขียนโปรแกรมรับค่า n แล้วคำนวณค่าต่อไปนี้\n",
        "\n",
        "$1/1^2 + 1/2^2 + 1/3^2 + 1/4^2 + 1/5^2 + … +  1/n^2$\n"
      ],
      "metadata": {
        "id": "udBZzWe9VsU7"
      }
    },
    {
      "cell_type": "code",
      "source": [
        "n = 2\n",
        "sum = 0\n",
        "for i in range(1,n+1):\n",
        "  sum += 1/(i**2)\n",
        "print(sum)"
      ],
      "metadata": {
        "id": "xtBw7zuxWEZ4",
        "colab": {
          "base_uri": "https://localhost:8080/"
        },
        "outputId": "998b6507-99bf-4f55-99fe-ba48441853df"
      },
      "execution_count": null,
      "outputs": [
        {
          "output_type": "stream",
          "name": "stdout",
          "text": [
            "1.25\n"
          ]
        }
      ]
    },
    {
      "cell_type": "markdown",
      "source": [
        "3.4 จากข้อมูลใน List ให้ตรวจสอบว่า ข้อมูลในลิสต์ s เรียงลำดับจากน้อยไปมากหรือไม่ ตอบเป็น True, False\n",
        "\n",
        "\t[1,2,3,4,5], [5,4,3,2,1]\n"
      ],
      "metadata": {
        "id": "o-6AnE5zWFJJ"
      }
    },
    {
      "cell_type": "code",
      "source": [
        "s , x = [1,2,3,4,5], [5,4,3,2,1]\n",
        "sort_s = sorted(s)\n",
        "sort_x = sorted(x)\n",
        "\n",
        "if s == sort_s:\n",
        "  print(True,end=\",\")\n",
        "else:\n",
        "  print(False,end=\",\")\n",
        "\n",
        "if x == sort_x:\n",
        "  print(True,end=\"\")\n",
        "else:\n",
        "  print(False,end=\"\")"
      ],
      "metadata": {
        "colab": {
          "base_uri": "https://localhost:8080/"
        },
        "id": "TMUKcUcXM02o",
        "outputId": "f0ca50d2-f128-4ee2-f9b8-574fa4e7b5bf"
      },
      "execution_count": null,
      "outputs": [
        {
          "output_type": "stream",
          "name": "stdout",
          "text": [
            "True,False"
          ]
        }
      ]
    },
    {
      "cell_type": "markdown",
      "source": [
        "3.5  ให้ x เป็นลิสต์เก็บคะแนน ต้องการปรับช่องที่มีค่าน้อยกว่า 30 ให้มีค่าเพิ่มอีก 10% แสดงผลลัพธ์ เป็น List\n",
        "\n",
        "\tx = [60, 70, 72, 65, 55, 43, 20, 90, 12]\n"
      ],
      "metadata": {
        "id": "Hv-fE32hWOBd"
      }
    },
    {
      "cell_type": "code",
      "source": [
        "x = [60, 70, 72, 65, 55, 43, 20, 90, 12]\n",
        "for i in range(len(x)):\n",
        "  if x[i] < 30:\n",
        "    x[i] += x[i]*0.1\n",
        "print(x)"
      ],
      "metadata": {
        "id": "BSFOJ_8GWTtL",
        "colab": {
          "base_uri": "https://localhost:8080/"
        },
        "outputId": "e1eef6ea-e829-4fa6-f24e-bef10378d086"
      },
      "execution_count": null,
      "outputs": [
        {
          "output_type": "stream",
          "name": "stdout",
          "text": [
            "[60, 70, 72, 65, 55, 43, 22.0, 90, 13.2]\n"
          ]
        }
      ]
    },
    {
      "cell_type": "markdown",
      "source": [
        "3.6 ต้องการหาผลรวมของคะแนนที่เก็บในลิสต์ x โดยขอไม่รวมคะแนนที่น้อยสุดอันดับ 2\n",
        "\n",
        "\tx = [15, 80, 75, 62, 55, 43, 99, 67, 10]\n"
      ],
      "metadata": {
        "id": "IDw88nQbWUTw"
      }
    },
    {
      "cell_type": "code",
      "source": [
        "x = [10,20,30,40,50]\n",
        "sort_x = sorted(x,reverse=True)\n",
        "total = 0\n",
        "for i in x:\n",
        "  total += i\n",
        "total -= sort_x[-1]\n",
        "total -= sort_x[-2]\n",
        "print(total)"
      ],
      "metadata": {
        "id": "Aool1F22WZKI",
        "colab": {
          "base_uri": "https://localhost:8080/"
        },
        "outputId": "4f78079f-62e6-481f-9621-3c6c8a3c741a"
      },
      "execution_count": null,
      "outputs": [
        {
          "output_type": "stream",
          "name": "stdout",
          "text": [
            "120\n"
          ]
        }
      ]
    },
    {
      "cell_type": "markdown",
      "source": [
        "3.7 จากข้อมูลใน List ให้แสดง string ที่มีความยาวมากกว่า 2 และมีอักษรตัวแรกกับตัวสุดท้ายเหมือนกัน แสดงบรรทัดละ 1 ตัว\n",
        "\n",
        "\tlst = ['abba', 'a', 'aa', 'alcaza', 'python', 'stores', 'program', 'execute']\n"
      ],
      "metadata": {
        "id": "92oZ0IQdWZkF"
      }
    },
    {
      "cell_type": "code",
      "source": [
        "lst = ['abba', 'a', 'aa', 'alcaza', 'python', 'stores', 'program', 'execute']\n",
        "for i in range(len(lst)):\n",
        "  if len(lst[i]) > 2:\n",
        "    for j in range(len(lst[i])):\n",
        "      print(lst[i][j])"
      ],
      "metadata": {
        "id": "i3vr0x1vWiHH",
        "colab": {
          "base_uri": "https://localhost:8080/"
        },
        "outputId": "ea82731e-4629-4446-b3f3-ccb741f32898"
      },
      "execution_count": null,
      "outputs": [
        {
          "output_type": "stream",
          "name": "stdout",
          "text": [
            "a\n",
            "b\n",
            "b\n",
            "a\n",
            "a\n",
            "l\n",
            "c\n",
            "a\n",
            "z\n",
            "a\n",
            "p\n",
            "y\n",
            "t\n",
            "h\n",
            "o\n",
            "n\n",
            "s\n",
            "t\n",
            "o\n",
            "r\n",
            "e\n",
            "s\n",
            "p\n",
            "r\n",
            "o\n",
            "g\n",
            "r\n",
            "a\n",
            "m\n",
            "e\n",
            "x\n",
            "e\n",
            "c\n",
            "u\n",
            "t\n",
            "e\n"
          ]
        }
      ]
    },
    {
      "cell_type": "markdown",
      "source": [
        "3.8 จากข้อมูลใน List ให้ลบข้อมูลที่มีซ้ำกันให้เหลือเพียงตัวเดียว ให้แสดงผลเป็น list เช่น\n",
        "\n",
        "[‘a’,’a’] => [‘a’]\n",
        "\n",
        "lst = ['a', 'a', 'b', 'a', 'b', 'c', 'd']\n"
      ],
      "metadata": {
        "id": "QicYHZbcWi8U"
      }
    },
    {
      "cell_type": "code",
      "source": [
        "lst = ['a', 'a', 'b', 'a', 'b', 'c', 'd']\n",
        "lst2 = []\n",
        "for i in lst:\n",
        "  if i not in lst2:\n",
        "    lst2.append(i)\n",
        "print(lst2)"
      ],
      "metadata": {
        "id": "saXxuMceWzd2",
        "colab": {
          "base_uri": "https://localhost:8080/"
        },
        "outputId": "08075d3a-47ff-4d24-9a6f-3b3e4352f687"
      },
      "execution_count": null,
      "outputs": [
        {
          "output_type": "stream",
          "name": "stdout",
          "text": [
            "['a', 'b', 'c', 'd']\n"
          ]
        }
      ]
    },
    {
      "cell_type": "markdown",
      "source": [
        "3.9 จากข้อมูลใน List ให้แสดงว่าแต่ละข้อมูลใน List มีจำนวนเท่าไร คือ มีซ้ำกันกี่ตัวใน List  ให้แสดงบรรทัดละตัว เช่น\n",
        "\n",
        "\t[1, 2, 3, 4, 1, 2, 3, 1, 2, 1]\n",
        "\t1 = 4\n",
        "\t2 = 3\n",
        "\t3 = 2\n",
        "\t4 = 1\n",
        "  \n",
        "\tlst = [1,2,3,4,5,1,2,3,4,1,2,3,1,2,1]"
      ],
      "metadata": {
        "id": "Dl6OEM9nWz8s"
      }
    },
    {
      "cell_type": "code",
      "source": [
        "lst = [1,2,3,4,5,1,2,3,4,1,2,3,1,2,1]\n",
        "lst2 = []\n",
        "count=0\n",
        "for i in lst:\n",
        "  if i not in lst2:\n",
        "    lst2.append(i)\n",
        "    for j in lst:\n",
        "      if i == j:\n",
        "        count +=1\n",
        "    print(f'{i} = {count}')\n",
        "    count = 0\n",
        "  else:\n",
        "    continue\n",
        "\n",
        "print(lst2)"
      ],
      "metadata": {
        "id": "Dm0dAivtW7vQ",
        "colab": {
          "base_uri": "https://localhost:8080/"
        },
        "outputId": "ce00cb13-82a7-4abf-c2b8-39e4315cea5e"
      },
      "execution_count": null,
      "outputs": [
        {
          "output_type": "stream",
          "name": "stdout",
          "text": [
            "1 = 5\n",
            "2 = 4\n",
            "3 = 3\n",
            "4 = 2\n",
            "5 = 1\n",
            "[1, 2, 3, 4, 5]\n"
          ]
        }
      ]
    },
    {
      "cell_type": "markdown",
      "source": [
        "1.\tเขียนโปรแกรมเพื่อหาผลบวกของอนุกรม 5+10+15+20+… จนถึง n เมื่อ n เป็นตัวเลขที่รับเข้ามาทางคีย์บอร์ด"
      ],
      "metadata": {
        "id": "GgbgWOV6W8Nn"
      }
    },
    {
      "cell_type": "code",
      "source": [
        "input = 20\n",
        "sum = 0\n",
        "for i in range(5,input+1,5):\n",
        "  sum += i\n",
        "print(sum)"
      ],
      "metadata": {
        "id": "9cCHZsLhXGKm",
        "colab": {
          "base_uri": "https://localhost:8080/"
        },
        "outputId": "66042122-3d04-462f-9039-c93a41a15d22"
      },
      "execution_count": null,
      "outputs": [
        {
          "output_type": "stream",
          "name": "stdout",
          "text": [
            "50\n"
          ]
        }
      ]
    },
    {
      "cell_type": "markdown",
      "source": [
        "2.\tจงเขียนโปรแกรมที่จะหาตัวเลขระหว่าง 2000-3200 ที่หารด้วย 7 ลงตัว แต่หารด้วย 5 ไม่ลงตัว\n",
        "การแสดงผลให้แสดงตัวเลขและคั่นด้วยเครื่องหมาย , ในบรรทัดเดียว\n",
        "\n",
        "2002,2009,2016,2023,2037,2044,2051,2058,2072,2079,2086,2093,2107,2114,2121,2128,2142,2149,2156,2163,2177,2184,2191,2198,2212,2219,2226,2233,2247,2254,2261,2268,2282,2289,2296,2303,2317,2324,2331,2338,2352,2359,2366,2373,2387,2394,2401,2408,2422,2429,2436,2443,2457,2464,2471,2478,2492,2499,2506,2513,2527,2534,2541,2548,2562,2569,2576,2583,2597,2604,2611,2618,2632,2639,2646,2653,2667,2674,2681,2688,2702,2709,2716,2723,2737,2744,2751,2758,2772,2779,2786,2793,2807,2814,2821,2828,2842,2849,2856,2863,2877,2884,2891,2898,2912,2919,2926,2933,2947,2954,2961,2968,2982,2989,2996,3003,3017,3024,3031,3038,3052,3059,3066,3073,3087,3094,3101,3108,3122,3129,3136,3143,3157,3164,3171,3178,3192,3199,"
      ],
      "metadata": {
        "id": "aujapFNTXGsV"
      }
    },
    {
      "cell_type": "code",
      "source": [
        "i = 2000\n",
        "while i <= 3200:\n",
        "  if i % 7 == 0 and i % 5 != 0:\n",
        "    print(i,end=\",\")\n",
        "  i+=1"
      ],
      "metadata": {
        "id": "L-kIF3-nXJqR",
        "outputId": "ed9fac4d-c58d-4880-a887-b79edaed1730",
        "colab": {
          "base_uri": "https://localhost:8080/"
        }
      },
      "execution_count": null,
      "outputs": [
        {
          "output_type": "stream",
          "name": "stdout",
          "text": [
            "2002,2009,2016,2023,2037,2044,2051,2058,2072,2079,2086,2093,2107,2114,2121,2128,2142,2149,2156,2163,2177,2184,2191,2198,2212,2219,2226,2233,2247,2254,2261,2268,2282,2289,2296,2303,2317,2324,2331,2338,2352,2359,2366,2373,2387,2394,2401,2408,2422,2429,2436,2443,2457,2464,2471,2478,2492,2499,2506,2513,2527,2534,2541,2548,2562,2569,2576,2583,2597,2604,2611,2618,2632,2639,2646,2653,2667,2674,2681,2688,2702,2709,2716,2723,2737,2744,2751,2758,2772,2779,2786,2793,2807,2814,2821,2828,2842,2849,2856,2863,2877,2884,2891,2898,2912,2919,2926,2933,2947,2954,2961,2968,2982,2989,2996,3003,3017,3024,3031,3038,3052,3059,3066,3073,3087,3094,3101,3108,3122,3129,3136,3143,3157,3164,3171,3178,3192,3199,"
          ]
        }
      ]
    },
    {
      "cell_type": "markdown",
      "source": [
        "3.\tจากข้อมูลใน List ต้องการนับว่า มีข้อมูลกี่คู่ในลิสต์ที่ตัวทางซ้ายมีค่ามากกว่าตัวทางขวา (ไม่จำเป็นต้องอยู่ติดกัน)\n",
        "\n",
        "x = [1, 5, 4, 2, 1]"
      ],
      "metadata": {
        "id": "FCZpmtuFXKUl"
      }
    },
    {
      "cell_type": "code",
      "source": [
        "x = [1, 5, 4, 2, 1]\n",
        "count = 0\n",
        "for i in range(len(x)):\n",
        "    for j in range(len(x)):\n",
        "      if j+i < len(x):\n",
        "        if x[i] > x[j+i]:\n",
        "          count += 1\n",
        "print(count)"
      ],
      "metadata": {
        "id": "VBgfWEXuXjQH",
        "colab": {
          "base_uri": "https://localhost:8080/"
        },
        "outputId": "5913aae5-b669-4735-a87b-cadc7eeb078d"
      },
      "execution_count": null,
      "outputs": [
        {
          "output_type": "stream",
          "name": "stdout",
          "text": [
            "6\n"
          ]
        }
      ]
    },
    {
      "cell_type": "markdown",
      "source": [
        "4.\tให้ตรวจสอบว่า String ที่รับเข้ามาผ่านคีย์บอร์ด เป็นตัวอักษรพิมพ์เล็ก หรือตัวอักษรพิมพ์ใหญ่ อย่างละกี่ตัว ตอบ 2 บรรทัด พิมพ์เล็ก 1 บรรทัด พิมพ์ใหญ่ 1 บรรทัด\n",
        "\n",
        "klfjslkgD;FGK;LSDKdl;gfk;\n",
        "=> 18,3"
      ],
      "metadata": {
        "id": "UAEC1_jdXjya"
      }
    },
    {
      "cell_type": "code",
      "source": [
        "s = \"klfjslkgD;FGK;LSDKdl;gfk;\"\n",
        "lower = 0\n",
        "upper = 0\n",
        "for i in range(len(s)):\n",
        "  if s[i] >= 'a' and s[i] < 'z':\n",
        "    lower += 1\n",
        "  elif s[i] >= 'A' and s[i] < 'Z':\n",
        "    upper += 1\n",
        "  else:\n",
        "    continue\n",
        "print(f'{lower},{upper}')"
      ],
      "metadata": {
        "id": "rSYwEhjEYY8N",
        "outputId": "0c12da77-13d7-48d0-9750-814e638e0c49",
        "colab": {
          "base_uri": "https://localhost:8080/"
        }
      },
      "execution_count": null,
      "outputs": [
        {
          "output_type": "stream",
          "name": "stdout",
          "text": [
            "13,8\n"
          ]
        }
      ]
    },
    {
      "cell_type": "markdown",
      "source": [
        "5.\tจงเขียนโปรแกรมที่หาตัวเลขระหว่าง 1000 และ 3000 ที่ทุกหลักเป็นเลขคู่ (รวม 1000 และ 3000) โดยแสดงผลในรูปแบบตัวเลขคั่นด้วย comma\n",
        "\n",
        "2000,2002,2004,2006,2008,2020,2022,2024,2026,2028,2040,2042,2044,2046,2048,2060,2062,2064,2066,2068,2080,2082,2084,2086,2088,2200,2202,2204,2206,2208,2220,2222,2224,2226,2228,2240,2242,2244,2246,2248,2260,2262,2264,2266,2268,2280,2282,2284,2286,2288,2400,2402,2404,2406,2408,2420,2422,2424,2426,2428,2440,2442,2444,2446,2448,2460,2462,2464,2466,2468,2480,2482,2484,2486,2488,2600,2602,2604,2606,2608,2620,2622,2624,2626,2628,2640,2642,2644,2646,2648,2660,2662,2664,2666,2668,2680,2682,2684,2686,2688,2800,2802,2804,2806,2808,2820,2822,2824,2826,2828,2840,2842,2844,2846,2848,2860,2862,2864,2866,2868,2880,2882,2884,2886,2888,"
      ],
      "metadata": {
        "id": "lBtvmw_sYYX_"
      }
    },
    {
      "cell_type": "code",
      "source": [
        "i = 1000\n",
        "while i <= 3000:\n",
        "  count = 0\n",
        "  num = str(i)\n",
        "  for j in num:\n",
        "    if int(j) % 2 == 0:\n",
        "      count +=1\n",
        "  if count == 4:\n",
        "    print(i,end=\",\")\n",
        "  i+=1"
      ],
      "metadata": {
        "id": "VvChTQMjYqYi",
        "outputId": "0fc66a4b-a156-4ba5-c77f-febab1069853",
        "colab": {
          "base_uri": "https://localhost:8080/"
        }
      },
      "execution_count": null,
      "outputs": [
        {
          "output_type": "stream",
          "name": "stdout",
          "text": [
            "2000,2002,2004,2006,2008,2020,2022,2024,2026,2028,2040,2042,2044,2046,2048,2060,2062,2064,2066,2068,2080,2082,2084,2086,2088,2200,2202,2204,2206,2208,2220,2222,2224,2226,2228,2240,2242,2244,2246,2248,2260,2262,2264,2266,2268,2280,2282,2284,2286,2288,2400,2402,2404,2406,2408,2420,2422,2424,2426,2428,2440,2442,2444,2446,2448,2460,2462,2464,2466,2468,2480,2482,2484,2486,2488,2600,2602,2604,2606,2608,2620,2622,2624,2626,2628,2640,2642,2644,2646,2648,2660,2662,2664,2666,2668,2680,2682,2684,2686,2688,2800,2802,2804,2806,2808,2820,2822,2824,2826,2828,2840,2842,2844,2846,2848,2860,2862,2864,2866,2868,2880,2882,2884,2886,2888,"
          ]
        }
      ]
    },
    {
      "cell_type": "markdown",
      "source": [
        "6.\tในคณิตศาสตร์ ตัวหารร่วมมาก หรือ ห.ร.ม. (greatest common divisor: gcd) ของจำนวนเต็มสองจำนวนซึ่งไม่เป็นศูนย์พร้อมกัน คือจำนวนเต็มที่มากที่สุดที่หารทั้งสองจำนวนลงตัว\n",
        "จงหา ห.ร.ม. ของจำนวนเต็ม 2 จำนวนที่กำหนดให้\n",
        "ข้อมูลนำเข้า\n",
        "บรรทัดแรกเพียงบรรทัดเดียว ประกอบไปด้วยจำนวนเต็มบวกสองจำนวน a และ b มีค่าไม่เกิน 9999\n",
        "ข้อมูลส่งออก\n",
        "ในบรรทัดแรกของข้อมูลส่งออก ให้แสดงค่า ห.ร.ม. ของ a และ b\n",
        "เช่น \tInput : 12 14\t\tOutput : 2\n",
        "\tInput : 7 3\t\tOutput : 1\n",
        "\n",
        "678\n",
        "345\n",
        "=> 3"
      ],
      "metadata": {
        "id": "6TCedRC8YqyU"
      }
    },
    {
      "cell_type": "code",
      "source": [
        "a ,b = 12,24\n",
        "i = 1\n",
        "gcd = 0\n",
        "if a > b:\n",
        "  min = b\n",
        "else:\n",
        "  min = a\n",
        "for i in range(1,min+1):\n",
        "  if a % i == 0 and b % i == 0:\n",
        "    gcd = i\n",
        "print(gcd)"
      ],
      "metadata": {
        "id": "yrD4p2Q6Y6qr",
        "outputId": "aa0e97da-853a-4fa5-c92f-231a3b187975",
        "colab": {
          "base_uri": "https://localhost:8080/"
        }
      },
      "execution_count": null,
      "outputs": [
        {
          "output_type": "stream",
          "name": "stdout",
          "text": [
            "12\n"
          ]
        }
      ]
    },
    {
      "cell_type": "markdown",
      "source": [
        "7.\tจงเขียนโปรแกรมที่คำนวณค่าของ a+aa+aaa+aaaa เมื่อรับข้อมูลเป็นตัวเลข 1 หลัก\n",
        "\n",
        "Input : 9\n",
        "\n",
        "Output : 11106 (=9+99+999+9999)\n"
      ],
      "metadata": {
        "id": "DW9riUdiY7KK"
      }
    },
    {
      "cell_type": "code",
      "source": [
        "input = 9\n",
        "total = 0\n",
        "text = ''\n",
        "if input <= 9 and input > 0:\n",
        "  for i in range(1,5):\n",
        "    total += int(str(input)*i)\n",
        "  for j in range(1,5):\n",
        "    text += \"+\"+str(input)*j\n",
        "  print(f'{total}(={text})')\n",
        "elif input >= 10:\n",
        "  print(\"> 10\")\n",
        "else:\n",
        "  print(\"negative number or zero number\")"
      ],
      "metadata": {
        "id": "iAZlPfC4Y-GG",
        "colab": {
          "base_uri": "https://localhost:8080/"
        },
        "outputId": "78bb05d6-1bb9-4485-8256-2e0e76ef3dd3"
      },
      "execution_count": null,
      "outputs": [
        {
          "output_type": "stream",
          "name": "stdout",
          "text": [
            "11106(=+9+99+999+9999)\n"
          ]
        }
      ]
    },
    {
      "cell_type": "markdown",
      "source": [
        "8.\tแปลงเลขโรมัน เป็นเลขอารบิก เช่น MMMDCCXXIV = 3724 (ค้นหาวิธีทางทางอินเตอร์เน็ต)\n"
      ],
      "metadata": {
        "id": "G3jPCyruZAZY"
      }
    },
    {
      "cell_type": "code",
      "source": [
        "num = \"MMMDCCXXIV\"\n",
        "result = 0\n",
        "prev_value = 0\n",
        "now = 0\n",
        "for i in range(len(num)):\n",
        "  if num[i] == 'M':\n",
        "    now = 1000\n",
        "  elif num[i] == 'D':\n",
        "    now = 500\n",
        "  elif num[i] == 'C':\n",
        "    now = 100\n",
        "  elif num[i] == 'X':\n",
        "    now = 10\n",
        "  elif num[i] == 'V':\n",
        "    now = 5\n",
        "  elif num[i] == \"I\":\n",
        "    now = 1\n",
        "  else:\n",
        "    print(\"Error value\")\n",
        "    break\n",
        "\n",
        "  if prev_value < now:\n",
        "    result += now - (prev_value * 2)\n",
        "  else:\n",
        "    result += now\n",
        "  prev_value = now\n",
        "print(result)"
      ],
      "metadata": {
        "id": "6RBWGF4IZGnc",
        "outputId": "8b2d2016-826a-4f06-de56-68b7ecc8b68d",
        "colab": {
          "base_uri": "https://localhost:8080/"
        }
      },
      "execution_count": 16,
      "outputs": [
        {
          "output_type": "stream",
          "name": "stdout",
          "text": [
            "3724\n"
          ]
        }
      ]
    },
    {
      "cell_type": "markdown",
      "source": [
        "9.\tอนุกรม Fibonacci คือ อนุกรมที่ตัวที่ 3 เป็นต้นไปเกิดจาก 2 ตัวหน้าบวกกัน จงเขียนโปรแกรมแสดงอนุกรม\n",
        "เช่น ตั้งแต่ 0-1000 คือ 0, 1, 1, 2, 3, 5, 8, 13, 21, 34, 55, 89, 144, 233, 377, 610, 987\n"
      ],
      "metadata": {
        "id": "SJBVkaFHZHKe"
      }
    },
    {
      "cell_type": "code",
      "source": [
        "now = 1\n",
        "prev = 0\n",
        "sum = 0\n",
        "while now < 1000:\n",
        "  if prev == 0:\n",
        "    print(prev,end=\", \")\n",
        "    print(now,end=\", \")\n",
        "  print(sum,end=\"\")\n",
        "  sum = prev + now\n",
        "  if sum < 1000:\n",
        "    print(end=\", \")\n",
        "  prev = now\n",
        "  now = sum\n",
        "\n",
        "\n",
        "\n"
      ],
      "metadata": {
        "id": "Vdtc9KqSZLls",
        "colab": {
          "base_uri": "https://localhost:8080/"
        },
        "outputId": "5a38175d-c100-4b69-dbea-04ed07c0f92b"
      },
      "execution_count": null,
      "outputs": [
        {
          "output_type": "stream",
          "name": "stdout",
          "text": [
            "0, 1, 0, 1, 2, 3, 5, 8, 13, 21, 34, 55, 89, 144, 233, 377, 610, 987"
          ]
        }
      ]
    },
    {
      "cell_type": "markdown",
      "source": [
        "10.\tให้สร้างโปรแกรม True Love โดยรับชื่อภาษาอังกฤษของ 2 คน จากนั้นค้นหาว่ามีตัวอักษรอยู่ในคำว่า True และ Love รวมกันกี่ตัว จากนั้นนำมาต่อกันเป็น % ตามรูป (ไม่ต้องแสดงเครื่องหมาย %)"
      ],
      "metadata": {
        "id": "1ykDG1H4ZKd4"
      }
    },
    {
      "cell_type": "code",
      "source": [
        "name1 = \"Krytie Lee Yandoli\"\n",
        "name2 = \"Aubrey Drake Graham\"\n",
        "name3 = name1.lower()+name2.lower()\n",
        "sum_true = 0\n",
        "sum_love = 0\n",
        "for i in name3:\n",
        "  if i == 't' or i == 'r' or i == 'u' :\n",
        "    sum_true +=1\n",
        "  elif i == 'l' or i == 'o' or i == 'v':\n",
        "    sum_love += 1\n",
        "  elif i == 'e':\n",
        "    sum_true += 1\n",
        "    sum_love += 1\n",
        "  else:\n",
        "    continue\n",
        "print(f'{sum_true}{sum_love}')"
      ],
      "metadata": {
        "id": "syOZPpj2ZPaA",
        "outputId": "c5608e31-24c8-47a7-f2d4-edfe7687b511",
        "colab": {
          "base_uri": "https://localhost:8080/"
        }
      },
      "execution_count": null,
      "outputs": [
        {
          "output_type": "stream",
          "name": "stdout",
          "text": [
            "118\n"
          ]
        }
      ]
    }
  ]
}